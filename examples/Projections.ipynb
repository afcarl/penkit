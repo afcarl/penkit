{
 "cells": [
  {
   "cell_type": "code",
   "execution_count": 1,
   "metadata": {
    "collapsed": true
   },
   "outputs": [],
   "source": [
    "from penkit import textures, surfaces, projection, preview\n",
    "import numpy as np\n",
    "from ipywidgets import interact, interactive, fixed, interact_manual"
   ]
  },
  {
   "cell_type": "code",
   "execution_count": 2,
   "metadata": {},
   "outputs": [
    {
     "name": "stderr",
     "output_type": "stream",
     "text": [
      "Widget Javascript not detected.  It may not be installed or enabled properly.\n"
     ]
    },
    {
     "data": {
      "application/vnd.jupyter.widget-view+json": {
       "model_id": "2423fcd7d5184488b95cee2f86bd250d"
      }
     },
     "metadata": {},
     "output_type": "display_data"
    }
   ],
   "source": [
    "@interact\n",
    "def make_plot(rotation=(-90, 90), grid_density=(2,100), angle=(0,90), surface_blur=(1,100)):\n",
    "    # create a texture\n",
    "    texture = textures.make_grid_texture(grid_density, grid_density, 100)\n",
    "    # rotate the texture\n",
    "    texture = textures.util.rotate_texture(texture, rotation)\n",
    "    # create the surface\n",
    "    surface = surfaces.make_noise_surface(blur=surface_blur, seed=12345) * 10\n",
    "    \n",
    "    # project the texture onto the surface\n",
    "    proj = projection.project_and_occlude_texture(texture, surface, angle)\n",
    "    # plot the result\n",
    "    return preview.show_layer(proj)"
   ]
  },
  {
   "cell_type": "code",
   "execution_count": 3,
   "metadata": {
    "collapsed": true
   },
   "outputs": [],
   "source": [
    "s = surfaces.make_bubble_surface()"
   ]
  },
  {
   "cell_type": "code",
   "execution_count": 4,
   "metadata": {
    "collapsed": true
   },
   "outputs": [],
   "source": [
    "from penkit.fractal import l_systems"
   ]
  },
  {
   "cell_type": "code",
   "execution_count": 5,
   "metadata": {},
   "outputs": [
    {
     "name": "stderr",
     "output_type": "stream",
     "text": [
      "Widget Javascript not detected.  It may not be installed or enabled properly.\n"
     ]
    },
    {
     "data": {
      "application/vnd.jupyter.widget-view+json": {
       "model_id": "6cddbfd4007f4672aad2e96857587ae6"
      }
     },
     "metadata": {},
     "output_type": "display_data"
    }
   ],
   "source": [
    "@interact\n",
    "def make_plot(rotation=(-90, 90), projection_angle=(0, 90), surface_blur=(1,100)):\n",
    "    # create a texture\n",
    "    texture = l_systems.l_system('A', {'A': 'A-B--B+A++AA+B-', 'B': '+A-BB--B-A++A+B'}, 4, 60, 9)\n",
    "    # rotate the texture\n",
    "    texture = textures.util.rotate_texture(texture, rotation)\n",
    "    texture = textures.util.fit_texture(texture)\n",
    "    # create the surface\n",
    "    surface = surfaces.make_noise_surface(blur=surface_blur, seed=12345) * 10\n",
    "    # project the texture onto the surface\n",
    "    proj = projection.project_and_occlude_texture(texture, surface, projection_angle)\n",
    "    # plot the result\n",
    "    return preview.show_layer(proj)"
   ]
  },
  {
   "cell_type": "code",
   "execution_count": null,
   "metadata": {
    "collapsed": true
   },
   "outputs": [],
   "source": []
  }
 ],
 "metadata": {
  "kernelspec": {
   "display_name": "Python 3",
   "language": "python",
   "name": "python3"
  },
  "language_info": {
   "codemirror_mode": {
    "name": "ipython",
    "version": 3
   },
   "file_extension": ".py",
   "mimetype": "text/x-python",
   "name": "python",
   "nbconvert_exporter": "python",
   "pygments_lexer": "ipython3",
   "version": "3.6.1"
  }
 },
 "nbformat": 4,
 "nbformat_minor": 2
}
