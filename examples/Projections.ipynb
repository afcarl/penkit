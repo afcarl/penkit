{
 "cells": [
  {
   "cell_type": "code",
   "execution_count": 1,
   "metadata": {},
   "outputs": [],
   "source": [
    "import matplotlib.pyplot as plt\n",
    "from penkit import textures, surfaces, projection\n",
    "import numpy as np\n",
    "from ipywidgets import interact, interactive, fixed, interact_manual"
   ]
  },
  {
   "cell_type": "code",
   "execution_count": 3,
   "metadata": {},
   "outputs": [
    {
     "data": {
      "application/vnd.jupyter.widget-view+json": {
       "model_id": "ca33f7504cb94e74a1e0320b3bca4c1f"
      }
     },
     "metadata": {},
     "output_type": "display_data"
    }
   ],
   "source": [
    "@interact\n",
    "def make_plot(rotation=(-np.pi/4, np.pi/4), grid_density=(2,100), angle=(0,180.0), surface_blur=(1,100)):\n",
    "    # create a texture\n",
    "    texture = textures.make_grid_texture(grid_density, grid_density, 100)\n",
    "    # rotate the texture\n",
    "    texture = textures.util.rotate_texture(texture, rotation)\n",
    "    # create the surface\n",
    "    surface = surfaces.make_noise_surface(blur=surface_blur, seed=12345) * 10\n",
    "    \n",
    "    # project the texture onto the surface\n",
    "    proj = projection.project_and_occlude_texture(texture, surface, angle)\n",
    "    # plot the result\n",
    "    plt.axes().set_aspect('equal', 'datalim')\n",
    "    plt.plot(*proj)\n",
    "\n",
    "    plt.axis('off')\n",
    "    plt.show()"
   ]
  },
  {
   "cell_type": "code",
   "execution_count": 2,
   "metadata": {
    "collapsed": true
   },
   "outputs": [],
   "source": [
    "s = surfaces.make_bubble_surface()"
   ]
  },
  {
   "cell_type": "code",
   "execution_count": 3,
   "metadata": {},
   "outputs": [
    {
     "data": {
      "application/vnd.jupyter.widget-view+json": {
       "model_id": "3f9f66d74ac942b1a8ee6ff62bac1be3"
      }
     },
     "metadata": {},
     "output_type": "display_data"
    }
   ],
   "source": [
    "@interact\n",
    "def foo(angle=(0, 180)):\n",
    "    r = projection.project_surface(s, angle)\n",
    "    plt.imshow(r)\n",
    "    plt.show()"
   ]
  },
  {
   "cell_type": "code",
   "execution_count": 2,
   "metadata": {
    "collapsed": true
   },
   "outputs": [],
   "source": [
    "from penkit.fractal import l_systems"
   ]
  },
  {
   "cell_type": "code",
   "execution_count": 10,
   "metadata": {},
   "outputs": [
    {
     "data": {
      "application/vnd.jupyter.widget-view+json": {
       "model_id": "c27a5035d5554d9db67771553c80bc77"
      }
     },
     "metadata": {},
     "output_type": "display_data"
    }
   ],
   "source": [
    "@interact\n",
    "def make_plot(rotation=(-np.pi/4, np.pi/4), projection_slope=(0,3.0), surface_blur=(1,100)):\n",
    "    # create a texture\n",
    "    texture = l_systems.l_system('A', {'A': 'A-B--B+A++AA+B-', 'B': '+A-BB--B-A++A+B'}, 5, 60, 10)\n",
    "    # rotate the texture\n",
    "    texture = textures.util.rotate_texture(texture, rotation)\n",
    "    texture = textures.util.fit_texture(texture)\n",
    "    # create the surface\n",
    "    surface = surfaces.make_noise_surface(blur=surface_blur, seed=12345) * 10\n",
    "    # project the texture onto the surface\n",
    "    proj = projection.project_and_occlude_texture(texture, surface, projection_slope)\n",
    "    # plot the result\n",
    "    plt.figure(figsize=(12,12))\n",
    "    plt.plot(*proj)\n",
    "    plt.axis('off')\n",
    "    plt.show()"
   ]
  },
  {
   "cell_type": "code",
   "execution_count": 23,
   "metadata": {},
   "outputs": [
    {
     "data": {
      "text/plain": [
       "array([ 0.        ,  0.        ,  0.        ,  0.        ,  0.        ,\n",
       "        0.02040816,  0.02040816,  0.02040816,  0.02040816,  0.02040816,\n",
       "        0.04081633,  0.04081633,  0.04081633,  0.04081633,  0.04081633,\n",
       "        0.06122449,  0.06122449,  0.06122449,  0.06122449,  0.06122449,\n",
       "        0.08163265,  0.08163265,  0.08163265,  0.08163265,  0.08163265,\n",
       "        0.10204082,  0.10204082,  0.10204082,  0.10204082,  0.10204082,\n",
       "        0.12244898,  0.12244898,  0.12244898,  0.12244898,  0.12244898,\n",
       "        0.14285714,  0.14285714,  0.14285714,  0.14285714,  0.14285714,\n",
       "        0.16326531,  0.16326531,  0.16326531,  0.16326531,  0.16326531,\n",
       "        0.18367347,  0.18367347,  0.18367347,  0.18367347,  0.18367347,\n",
       "        0.20408163,  0.20408163,  0.20408163,  0.20408163,  0.20408163,\n",
       "        0.2244898 ,  0.2244898 ,  0.2244898 ,  0.2244898 ,  0.2244898 ,\n",
       "        0.24489796,  0.24489796,  0.24489796,  0.24489796,  0.24489796,\n",
       "        0.26530612,  0.26530612,  0.26530612,  0.26530612,  0.26530612,\n",
       "        0.28571429,  0.28571429,  0.28571429,  0.28571429,  0.28571429,\n",
       "        0.30612245,  0.30612245,  0.30612245,  0.30612245,  0.30612245,\n",
       "        0.32653061,  0.32653061,  0.32653061,  0.32653061,  0.32653061,\n",
       "        0.34693878,  0.34693878,  0.34693878,  0.34693878,  0.34693878,\n",
       "        0.36734694,  0.36734694,  0.36734694,  0.36734694,  0.36734694,\n",
       "        0.3877551 ,  0.3877551 ,  0.3877551 ,  0.3877551 ,  0.3877551 ,\n",
       "        0.40816327,  0.40816327,  0.40816327,  0.40816327,  0.40816327,\n",
       "        0.42857143,  0.42857143,  0.42857143,  0.42857143,  0.42857143,\n",
       "        0.44897959,  0.44897959,  0.44897959,  0.44897959,  0.44897959,\n",
       "        0.46938776,  0.46938776,  0.46938776,  0.46938776,  0.46938776,\n",
       "        0.48979592,  0.48979592,  0.48979592,  0.48979592,  0.48979592,\n",
       "        0.51020408,  0.51020408,  0.51020408,  0.51020408,  0.51020408,\n",
       "        0.53061224,  0.53061224,  0.53061224,  0.53061224,  0.53061224,\n",
       "        0.55102041,  0.55102041,  0.55102041,  0.55102041,  0.55102041,\n",
       "        0.57142857,  0.57142857,  0.57142857,  0.57142857,  0.57142857,\n",
       "        0.59183673,  0.59183673,  0.59183673,  0.59183673,  0.59183673,\n",
       "        0.6122449 ,  0.6122449 ,  0.6122449 ,  0.6122449 ,  0.6122449 ,\n",
       "        0.63265306,  0.63265306,  0.63265306,  0.63265306,  0.63265306,\n",
       "        0.65306122,  0.65306122,  0.65306122,  0.65306122,  0.65306122,\n",
       "        0.67346939,  0.67346939,  0.67346939,  0.67346939,  0.67346939,\n",
       "        0.69387755,  0.69387755,  0.69387755,  0.69387755,  0.69387755,\n",
       "        0.71428571,  0.71428571,  0.71428571,  0.71428571,  0.71428571,\n",
       "        0.73469388,  0.73469388,  0.73469388,  0.73469388,  0.73469388,\n",
       "        0.75510204,  0.75510204,  0.75510204,  0.75510204,  0.75510204,\n",
       "        0.7755102 ,  0.7755102 ,  0.7755102 ,  0.7755102 ,  0.7755102 ,\n",
       "        0.79591837,  0.79591837,  0.79591837,  0.79591837,  0.79591837,\n",
       "        0.81632653,  0.81632653,  0.81632653,  0.81632653,  0.81632653,\n",
       "        0.83673469,  0.83673469,  0.83673469,  0.83673469,  0.83673469,\n",
       "        0.85714286,  0.85714286,  0.85714286,  0.85714286,  0.85714286,\n",
       "        0.87755102,  0.87755102,  0.87755102,  0.87755102,  0.87755102,\n",
       "        0.89795918,  0.89795918,  0.89795918,  0.89795918,  0.89795918,\n",
       "        0.91836735,  0.91836735,  0.91836735,  0.91836735,  0.91836735,\n",
       "        0.93877551,  0.93877551,  0.93877551,  0.93877551,  0.93877551,\n",
       "        0.95918367,  0.95918367,  0.95918367,  0.95918367,  0.95918367,\n",
       "        0.97959184,  0.97959184,  0.97959184,  0.97959184,  0.97959184,\n",
       "        1.        ,  1.        ,  1.        ,  1.        ,  1.        ])"
      ]
     },
     "execution_count": 23,
     "metadata": {},
     "output_type": "execute_result"
    }
   ],
   "source": [
    "np.repeat(np.linspace(0, 1, 50), 5, axis=0)"
   ]
  },
  {
   "cell_type": "code",
   "execution_count": 22,
   "metadata": {},
   "outputs": [],
   "source": [
    "np.repeat?"
   ]
  },
  {
   "cell_type": "code",
   "execution_count": null,
   "metadata": {
    "collapsed": true
   },
   "outputs": [],
   "source": []
  }
 ],
 "metadata": {
  "kernelspec": {
   "display_name": "Python 3",
   "language": "python",
   "name": "python3"
  },
  "language_info": {
   "codemirror_mode": {
    "name": "ipython",
    "version": 3
   },
   "file_extension": ".py",
   "mimetype": "text/x-python",
   "name": "python",
   "nbconvert_exporter": "python",
   "pygments_lexer": "ipython3",
   "version": "3.6.1"
  }
 },
 "nbformat": 4,
 "nbformat_minor": 2
}
